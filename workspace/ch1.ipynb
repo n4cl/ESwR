{
 "cells": [
  {
   "cell_type": "markdown",
   "id": "1a186171-83dd-4f06-8546-02ebad0ca21d",
   "metadata": {},
   "source": [
    "# 第1章 Rと統計学\n",
    "## 1.4 R をさわってみよう\n",
    "### 1.4.2 基本的な操作の概要"
   ]
  },
  {
   "cell_type": "code",
   "execution_count": 1,
   "id": "1902c76e-6840-4e77-ad4e-55b0c3d175fe",
   "metadata": {},
   "outputs": [
    {
     "data": {
      "text/html": [
       "8"
      ],
      "text/latex": [
       "8"
      ],
      "text/markdown": [
       "8"
      ],
      "text/plain": [
       "[1] 8"
      ]
     },
     "metadata": {},
     "output_type": "display_data"
    }
   ],
   "source": [
    "3+5"
   ]
  },
  {
   "cell_type": "code",
   "execution_count": 2,
   "id": "905ab4d7-d1a3-43ce-b6ac-9170afa05cdb",
   "metadata": {
    "tags": []
   },
   "outputs": [
    {
     "data": {
      "text/html": [
       "7"
      ],
      "text/latex": [
       "7"
      ],
      "text/markdown": [
       "7"
      ],
      "text/plain": [
       "[1] 7"
      ]
     },
     "metadata": {},
     "output_type": "display_data"
    }
   ],
   "source": [
    "10-3"
   ]
  },
  {
   "cell_type": "code",
   "execution_count": 3,
   "id": "cff00775-3d4c-4ebd-92dc-0df2ed16a696",
   "metadata": {
    "tags": []
   },
   "outputs": [
    {
     "data": {
      "text/html": [
       "6"
      ],
      "text/latex": [
       "6"
      ],
      "text/markdown": [
       "6"
      ],
      "text/plain": [
       "[1] 6"
      ]
     },
     "metadata": {},
     "output_type": "display_data"
    }
   ],
   "source": [
    "2*3"
   ]
  },
  {
   "cell_type": "code",
   "execution_count": 4,
   "id": "9c50bcca-b3f4-4120-aa80-375fb9e2c9aa",
   "metadata": {
    "tags": []
   },
   "outputs": [
    {
     "data": {
      "text/html": [
       "5"
      ],
      "text/latex": [
       "5"
      ],
      "text/markdown": [
       "5"
      ],
      "text/plain": [
       "[1] 5"
      ]
     },
     "metadata": {},
     "output_type": "display_data"
    }
   ],
   "source": [
    "20/4"
   ]
  },
  {
   "cell_type": "code",
   "execution_count": 5,
   "id": "5377c0b0-938e-47e3-bbb2-b9b45510a853",
   "metadata": {
    "tags": []
   },
   "outputs": [
    {
     "data": {
      "text/html": [
       "4"
      ],
      "text/latex": [
       "4"
      ],
      "text/markdown": [
       "4"
      ],
      "text/plain": [
       "[1] 4"
      ]
     },
     "metadata": {},
     "output_type": "display_data"
    }
   ],
   "source": [
    "sqrt(16)"
   ]
  },
  {
   "cell_type": "code",
   "execution_count": 6,
   "id": "ddfdda48-0899-4e33-9765-e6a2eafb7ad1",
   "metadata": {
    "tags": []
   },
   "outputs": [
    {
     "data": {
      "text/html": [
       "4"
      ],
      "text/latex": [
       "4"
      ],
      "text/markdown": [
       "4"
      ],
      "text/plain": [
       "[1] 4"
      ]
     },
     "metadata": {},
     "output_type": "display_data"
    }
   ],
   "source": [
    "2^2"
   ]
  },
  {
   "cell_type": "markdown",
   "id": "7d7e260f-43ab-413a-a59e-9f9defb821f7",
   "metadata": {},
   "source": [
    "### 1.5.1 R を使った統計"
   ]
  },
  {
   "cell_type": "code",
   "execution_count": 7,
   "id": "2716e4a8-f28a-4c78-81cc-52103c7324fb",
   "metadata": {
    "tags": []
   },
   "outputs": [
    {
     "data": {
      "text/plain": [
       "   Min. 1st Qu.  Median    Mean 3rd Qu.    Max. \n",
       "  173.0   175.0   179.0   179.4   181.5   192.0 "
      ]
     },
     "metadata": {},
     "output_type": "display_data"
    }
   ],
   "source": [
    "summary(c(173, 178, 180, 183, 182, 174, 179, 179, 174, 192))"
   ]
  },
  {
   "cell_type": "markdown",
   "id": "933354bc-b113-4870-a110-ed9fce55c79a",
   "metadata": {},
   "source": [
    "## 1.6 R の使い方のコツ\n",
    "### 1.6.1 複数の値をまとめて扱う"
   ]
  },
  {
   "cell_type": "code",
   "execution_count": 8,
   "id": "2e364051-ae8b-4731-9b2f-50477bce5e40",
   "metadata": {
    "tags": []
   },
   "outputs": [],
   "source": [
    "身長 <- c(173, 178, 180, 183, 182, 174, 179, 179, 174, 192)"
   ]
  },
  {
   "cell_type": "code",
   "execution_count": 9,
   "id": "2abdce6e-7bf4-4d0c-b160-87b3ff56164f",
   "metadata": {
    "tags": []
   },
   "outputs": [
    {
     "data": {
      "text/html": [
       "<style>\n",
       ".list-inline {list-style: none; margin:0; padding: 0}\n",
       ".list-inline>li {display: inline-block}\n",
       ".list-inline>li:not(:last-child)::after {content: \"\\00b7\"; padding: 0 .5ex}\n",
       "</style>\n",
       "<ol class=list-inline><li>173</li><li>178</li><li>180</li><li>183</li><li>182</li><li>174</li><li>179</li><li>179</li><li>174</li><li>192</li></ol>\n"
      ],
      "text/latex": [
       "\\begin{enumerate*}\n",
       "\\item 173\n",
       "\\item 178\n",
       "\\item 180\n",
       "\\item 183\n",
       "\\item 182\n",
       "\\item 174\n",
       "\\item 179\n",
       "\\item 179\n",
       "\\item 174\n",
       "\\item 192\n",
       "\\end{enumerate*}\n"
      ],
      "text/markdown": [
       "1. 173\n",
       "2. 178\n",
       "3. 180\n",
       "4. 183\n",
       "5. 182\n",
       "6. 174\n",
       "7. 179\n",
       "8. 179\n",
       "9. 174\n",
       "10. 192\n",
       "\n",
       "\n"
      ],
      "text/plain": [
       " [1] 173 178 180 183 182 174 179 179 174 192"
      ]
     },
     "metadata": {},
     "output_type": "display_data"
    }
   ],
   "source": [
    "身長"
   ]
  },
  {
   "cell_type": "code",
   "execution_count": 10,
   "id": "cb0f9084-6afb-42de-947a-0ca3d5abda8e",
   "metadata": {
    "tags": []
   },
   "outputs": [],
   "source": [
    "ホークス <- matrix(c(173, 178, 180, 183, 182, 174, 179, 179, 174, 192, 17000, 14000, 9000, 50000, 30000, 12000, 900, 2100, 1000, 25000), 10, 2)"
   ]
  },
  {
   "cell_type": "code",
   "execution_count": 11,
   "id": "6f6b7485-87d1-46b5-a304-df93090ce30b",
   "metadata": {
    "tags": []
   },
   "outputs": [
    {
     "data": {
      "text/html": [
       "<table class=\"dataframe\">\n",
       "<caption>A matrix: 10 × 2 of type dbl</caption>\n",
       "<tbody>\n",
       "\t<tr><td>173</td><td>17000</td></tr>\n",
       "\t<tr><td>178</td><td>14000</td></tr>\n",
       "\t<tr><td>180</td><td> 9000</td></tr>\n",
       "\t<tr><td>183</td><td>50000</td></tr>\n",
       "\t<tr><td>182</td><td>30000</td></tr>\n",
       "\t<tr><td>174</td><td>12000</td></tr>\n",
       "\t<tr><td>179</td><td>  900</td></tr>\n",
       "\t<tr><td>179</td><td> 2100</td></tr>\n",
       "\t<tr><td>174</td><td> 1000</td></tr>\n",
       "\t<tr><td>192</td><td>25000</td></tr>\n",
       "</tbody>\n",
       "</table>\n"
      ],
      "text/latex": [
       "A matrix: 10 × 2 of type dbl\n",
       "\\begin{tabular}{ll}\n",
       "\t 173 & 17000\\\\\n",
       "\t 178 & 14000\\\\\n",
       "\t 180 &  9000\\\\\n",
       "\t 183 & 50000\\\\\n",
       "\t 182 & 30000\\\\\n",
       "\t 174 & 12000\\\\\n",
       "\t 179 &   900\\\\\n",
       "\t 179 &  2100\\\\\n",
       "\t 174 &  1000\\\\\n",
       "\t 192 & 25000\\\\\n",
       "\\end{tabular}\n"
      ],
      "text/markdown": [
       "\n",
       "A matrix: 10 × 2 of type dbl\n",
       "\n",
       "| 173 | 17000 |\n",
       "| 178 | 14000 |\n",
       "| 180 |  9000 |\n",
       "| 183 | 50000 |\n",
       "| 182 | 30000 |\n",
       "| 174 | 12000 |\n",
       "| 179 |   900 |\n",
       "| 179 |  2100 |\n",
       "| 174 |  1000 |\n",
       "| 192 | 25000 |\n",
       "\n"
      ],
      "text/plain": [
       "      [,1] [,2] \n",
       " [1,] 173  17000\n",
       " [2,] 178  14000\n",
       " [3,] 180   9000\n",
       " [4,] 183  50000\n",
       " [5,] 182  30000\n",
       " [6,] 174  12000\n",
       " [7,] 179    900\n",
       " [8,] 179   2100\n",
       " [9,] 174   1000\n",
       "[10,] 192  25000"
      ]
     },
     "metadata": {},
     "output_type": "display_data"
    }
   ],
   "source": [
    "ホークス"
   ]
  },
  {
   "cell_type": "markdown",
   "id": "543ad159-38e5-41ff-a7fc-05fbbd3efc39",
   "metadata": {},
   "source": [
    "### 1.6.2 外部データファイルを読み込んでみよう"
   ]
  },
  {
   "cell_type": "code",
   "execution_count": 12,
   "id": "d504d618-bf8f-470a-b020-1d5e06c0cb40",
   "metadata": {
    "tags": []
   },
   "outputs": [],
   "source": [
    "ホークス2 <- read.csv(\"hawks.csv\")"
   ]
  },
  {
   "cell_type": "code",
   "execution_count": 13,
   "id": "28b85e88-1e8e-4f9b-9b53-0c7a26f9531b",
   "metadata": {
    "tags": []
   },
   "outputs": [
    {
     "data": {
      "text/html": [
       "<table class=\"dataframe\">\n",
       "<caption>A data.frame: 10 × 2</caption>\n",
       "<thead>\n",
       "\t<tr><th scope=col>height</th><th scope=col>salaly</th></tr>\n",
       "\t<tr><th scope=col>&lt;int&gt;</th><th scope=col>&lt;int&gt;</th></tr>\n",
       "</thead>\n",
       "<tbody>\n",
       "\t<tr><td>173</td><td>17000</td></tr>\n",
       "\t<tr><td>178</td><td>14000</td></tr>\n",
       "\t<tr><td>180</td><td> 9000</td></tr>\n",
       "\t<tr><td>183</td><td>50000</td></tr>\n",
       "\t<tr><td>182</td><td>30000</td></tr>\n",
       "\t<tr><td>174</td><td>12000</td></tr>\n",
       "\t<tr><td>179</td><td>  900</td></tr>\n",
       "\t<tr><td>179</td><td> 2100</td></tr>\n",
       "\t<tr><td>174</td><td> 1000</td></tr>\n",
       "\t<tr><td>192</td><td>25000</td></tr>\n",
       "</tbody>\n",
       "</table>\n"
      ],
      "text/latex": [
       "A data.frame: 10 × 2\n",
       "\\begin{tabular}{ll}\n",
       " height & salaly\\\\\n",
       " <int> & <int>\\\\\n",
       "\\hline\n",
       "\t 173 & 17000\\\\\n",
       "\t 178 & 14000\\\\\n",
       "\t 180 &  9000\\\\\n",
       "\t 183 & 50000\\\\\n",
       "\t 182 & 30000\\\\\n",
       "\t 174 & 12000\\\\\n",
       "\t 179 &   900\\\\\n",
       "\t 179 &  2100\\\\\n",
       "\t 174 &  1000\\\\\n",
       "\t 192 & 25000\\\\\n",
       "\\end{tabular}\n"
      ],
      "text/markdown": [
       "\n",
       "A data.frame: 10 × 2\n",
       "\n",
       "| height &lt;int&gt; | salaly &lt;int&gt; |\n",
       "|---|---|\n",
       "| 173 | 17000 |\n",
       "| 178 | 14000 |\n",
       "| 180 |  9000 |\n",
       "| 183 | 50000 |\n",
       "| 182 | 30000 |\n",
       "| 174 | 12000 |\n",
       "| 179 |   900 |\n",
       "| 179 |  2100 |\n",
       "| 174 |  1000 |\n",
       "| 192 | 25000 |\n",
       "\n"
      ],
      "text/plain": [
       "   height salaly\n",
       "1  173    17000 \n",
       "2  178    14000 \n",
       "3  180     9000 \n",
       "4  183    50000 \n",
       "5  182    30000 \n",
       "6  174    12000 \n",
       "7  179      900 \n",
       "8  179     2100 \n",
       "9  174     1000 \n",
       "10 192    25000 "
      ]
     },
     "metadata": {},
     "output_type": "display_data"
    }
   ],
   "source": [
    "ホークス2"
   ]
  },
  {
   "cell_type": "markdown",
   "id": "a8679609-7609-452e-9fc5-427e8c0c74f6",
   "metadata": {},
   "source": [
    "### 1.6.3 関数を作ってみよう"
   ]
  },
  {
   "cell_type": "code",
   "execution_count": 14,
   "id": "7ee365aa-7027-4644-9261-eb5c74cd521c",
   "metadata": {
    "tags": []
   },
   "outputs": [],
   "source": [
    "varp <- function(x){\n",
    "    標本分散 <- var(x) * (length(x) - 1) / length(x)\n",
    "    標本分散\n",
    "}"
   ]
  },
  {
   "cell_type": "code",
   "execution_count": 15,
   "id": "129010bc-0834-4a00-8f98-6e1c87485a23",
   "metadata": {
    "tags": []
   },
   "outputs": [
    {
     "data": {
      "text/html": [
       "9.7"
      ],
      "text/latex": [
       "9.7"
      ],
      "text/markdown": [
       "9.7"
      ],
      "text/plain": [
       "[1] 9.7"
      ]
     },
     "metadata": {},
     "output_type": "display_data"
    },
    {
     "data": {
      "text/html": [
       "7.76"
      ],
      "text/latex": [
       "7.76"
      ],
      "text/markdown": [
       "7.76"
      ],
      "text/plain": [
       "[1] 7.76"
      ]
     },
     "metadata": {},
     "output_type": "display_data"
    }
   ],
   "source": [
    "x <- c(10, 13, 8, 15, 8)\n",
    "var(x)\n",
    "varp(x)"
   ]
  },
  {
   "cell_type": "code",
   "execution_count": null,
   "id": "4152e64d-4307-4aa3-a12c-058028c3a295",
   "metadata": {},
   "outputs": [],
   "source": []
  }
 ],
 "metadata": {
  "kernelspec": {
   "display_name": "R",
   "language": "R",
   "name": "ir"
  },
  "language_info": {
   "codemirror_mode": "r",
   "file_extension": ".r",
   "mimetype": "text/x-r-source",
   "name": "R",
   "pygments_lexer": "r",
   "version": "3.5.2"
  }
 },
 "nbformat": 4,
 "nbformat_minor": 5
}
